{
 "cells": [
  {
   "cell_type": "code",
   "execution_count": 1,
   "metadata": {},
   "outputs": [
    {
     "data": {
      "text/plain": [
       "True"
      ]
     },
     "execution_count": 1,
     "metadata": {},
     "output_type": "execute_result"
    }
   ],
   "source": [
    "## Retrieval augmented generation\n",
    "\n",
    "import os\n",
    "from dotenv import load_dotenv\n",
    "load_dotenv()"
   ]
  },
  {
   "cell_type": "code",
   "execution_count": 2,
   "metadata": {},
   "outputs": [],
   "source": [
    "os.environ['OPENAI_API_KEY']=os.getenv(\"OPENAI_API_KEY\")"
   ]
  },
  {
   "cell_type": "code",
   "execution_count": 3,
   "metadata": {},
   "outputs": [],
   "source": [
    "from llama_index.core import VectorStoreIndex,SimpleDirectoryReader\n",
    "documents=SimpleDirectoryReader(\"Al_rods\").load_data()"
   ]
  },
  {
   "cell_type": "code",
   "execution_count": 4,
   "metadata": {},
   "outputs": [
    {
     "data": {
      "application/vnd.jupyter.widget-view+json": {
       "model_id": "165bcbc3e8874dbfb54037d50904986b",
       "version_major": 2,
       "version_minor": 0
      },
      "text/plain": [
       "Parsing nodes:   0%|          | 0/86 [00:00<?, ?it/s]"
      ]
     },
     "metadata": {},
     "output_type": "display_data"
    },
    {
     "data": {
      "application/vnd.jupyter.widget-view+json": {
       "model_id": "ffb28dc33d8445e7a085247225929f1f",
       "version_major": 2,
       "version_minor": 0
      },
      "text/plain": [
       "Generating embeddings:   0%|          | 0/136 [00:00<?, ?it/s]"
      ]
     },
     "metadata": {},
     "output_type": "display_data"
    }
   ],
   "source": [
    "index=VectorStoreIndex.from_documents(documents,show_progress=True)"
   ]
  },
  {
   "cell_type": "code",
   "execution_count": 5,
   "metadata": {},
   "outputs": [],
   "source": [
    "query_engine=index.as_query_engine()"
   ]
  },
  {
   "cell_type": "code",
   "execution_count": 11,
   "metadata": {},
   "outputs": [],
   "source": [
    "# from llama_index.core.retrievers import VectorIndexRetriever\n",
    "# from llama_index.core.query_engine import RetrieverQueryEngine\n",
    "# from llama_index.core.indices.postprocessor import SimilarityPostprocessor\n",
    "\n",
    "# retriever=VectorIndexRetriever(index=index,similarity_top_k=4)\n",
    "# postprocessor=SimilarityPostprocessor(similarity_cutoff=0.50)\n",
    "\n",
    "# query_engine=RetrieverQueryEngine(retriever=retriever,\n",
    "#                                   node_postprocessors=[postprocessor])"
   ]
  },
  {
   "cell_type": "code",
   "execution_count": 6,
   "metadata": {},
   "outputs": [],
   "source": [
    "response=query_engine.query(\"What is the strongest rod?\")"
   ]
  },
  {
   "cell_type": "code",
   "execution_count": 7,
   "metadata": {},
   "outputs": [
    {
     "name": "stdout",
     "output_type": "stream",
     "text": [
      "Final Response: The 1350-H111 rod has the highest ultimate yield\n",
      "strength of 61.0 ksi, making it the strongest rod listed in the\n",
      "mechanical properties table.\n",
      "______________________________________________________________________\n",
      "Source Node 1/2\n",
      "Node ID: 8a183b9a-583b-4b09-aaf2-6c009f1e2734\n",
      "Similarity: 0.7761756790750944\n",
      "Text: Mechanical Properties  36 TABLE 16.3  Property Limits—Rod,\n",
      "Bar,Tube, Pipe, St ructural Proﬁ  les and Sheet R—Electric Conductors\n",
      "TENSILE STRENGTH  ksi  ULTIMATE YIELD  min. max. min. max.  1350-H111\n",
      "All 8.5 . . 3.5 . . 61.0  6101-H111 0.250–2.000 12.0 . . 8.0 . . 59.0\n",
      "6101-T6 0.125–0.500 29.0 . . 25.0 . . 55.0  0.125–0.749 20.0 . . 15.0\n",
      ". . 57...\n",
      "______________________________________________________________________\n",
      "Source Node 2/2\n",
      "Node ID: a98ccb10-e80e-4e6d-87ba-6d757a6b830b\n",
      "Similarity: 0.7721213730484785\n",
      "Text: Mechanical Properties  29 OMaterial in this temper, 0.750 inch\n",
      "and thicker, wh en tested in accordance  with ASTM G47 in the short\n",
      "transverse direction at a stress level of 75 percent  of the speciﬁ\n",
      "ed minimum yield strength, will exhib it no evidence of stress cor-\n",
      "rosion cracking. Capability of individual lots to r esist stress\n",
      "corrosion is ...\n",
      "The 1350-H111 rod has the highest ultimate yield strength of 61.0 ksi, making it the strongest rod listed in the mechanical properties table.\n"
     ]
    }
   ],
   "source": [
    "from llama_index.core.response.pprint_utils import pprint_response\n",
    "\n",
    "pprint_response(response,show_source=True)\n",
    "print(response)"
   ]
  },
  {
   "cell_type": "code",
   "execution_count": 16,
   "metadata": {},
   "outputs": [
    {
     "name": "stdout",
     "output_type": "stream",
     "text": [
      "6061-T6 Aluminum, Color Anodized Red And Black\n"
     ]
    }
   ],
   "source": [
    "import os.path\n",
    "from llama_index.core import (\n",
    "    VectorStoreIndex,\n",
    "    SimpleDirectoryReader,\n",
    "    StorageContext,\n",
    "    load_index_from_storage,\n",
    ")\n",
    "\n",
    "# check if storage already exists\n",
    "PERSIST_DIR = \"./storage\"\n",
    "if not os.path.exists(PERSIST_DIR):\n",
    "    # load the documents and create the index\n",
    "    documents = SimpleDirectoryReader(\"data\").load_data()\n",
    "    index = VectorStoreIndex.from_documents(documents)\n",
    "    # store it for later\n",
    "    index.storage_context.persist(persist_dir=PERSIST_DIR)\n",
    "else:\n",
    "    # load the existing index\n",
    "    storage_context = StorageContext.from_defaults(persist_dir=PERSIST_DIR)\n",
    "    index = load_index_from_storage(storage_context)\n",
    "\n",
    "# either way we can now query the index\n",
    "query_engine = index.as_query_engine()\n",
    "response = query_engine.query(\"What is the strongest rode?\")\n",
    "print(response)"
   ]
  }
 ],
 "metadata": {
  "kernelspec": {
   "display_name": "venv1",
   "language": "python",
   "name": "python3"
  },
  "language_info": {
   "codemirror_mode": {
    "name": "ipython",
    "version": 3
   },
   "file_extension": ".py",
   "mimetype": "text/x-python",
   "name": "python",
   "nbconvert_exporter": "python",
   "pygments_lexer": "ipython3",
   "version": "3.12.2"
  }
 },
 "nbformat": 4,
 "nbformat_minor": 2
}
